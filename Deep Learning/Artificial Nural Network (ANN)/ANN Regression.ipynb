{
 "cells": [
 
  {
   "cell_type": "markdown",
   "metadata": {
    "colab_type": "text",
    "id": "3cbb7fRy-eyr"
   },
   "source": [
    "# <center>Deep Learning (Artificial Neural Network)</center>"
   ]
  },
  {
   "cell_type": "markdown",
   "metadata": {},
   "source": [
    "# Regression"
   ]
  },
  {
   "cell_type": "markdown",
   "metadata": {
    "colab_type": "text",
    "id": "8sNDnxE2-pwE"
   },
   "source": [
    "### Importing the libraries"
   ]
  },
  {
   "cell_type": "code",
   "execution_count": 1,
   "metadata": {
    "colab": {},
    "colab_type": "code",
    "id": "lxChR1Rk-umf"
   },
   "outputs": [
    {
     "name": "stdout",
     "output_type": "stream",
     "text": [
      "WARNING:tensorflow:From C:\\Users\\udaya\\anaconda3\\Lib\\site-packages\\keras\\src\\losses.py:2976: The name tf.losses.sparse_softmax_cross_entropy is deprecated. Please use tf.compat.v1.losses.sparse_softmax_cross_entropy instead.\n",
      "\n"
     ]
    }
   ],
   "source": [
    "import numpy as np\n",
    "import pandas as pd\n",
    "import tensorflow as tf"
   ]
  },
  {
   "cell_type": "code",
   "execution_count": 2,
   "metadata": {
    "colab": {
     "base_uri": "https://localhost:8080/",
     "height": 34
    },
    "colab_type": "code",
    "id": "uBTqR3nacj0e",
    "outputId": "4c0bd183-e424-429a-9fba-ceb841c06888"
   },
   "outputs": [
    {
     "data": {
      "text/plain": [
       "'2.15.0'"
      ]
     },
     "execution_count": 2,
     "metadata": {},
     "output_type": "execute_result"
    }
   ],
   "source": [
    "tf.__version__"
   ]
  },
  {
   "cell_type": "markdown",
   "metadata": {
    "colab_type": "text",
    "id": "AG3FQEch-yuA"
   },
   "source": [
    "## Part 1 - Data Preprocessing"
   ]
  },
  {
   "cell_type": "markdown",
   "metadata": {
    "colab_type": "text",
    "id": "-4zq8Mza_D9O"
   },
   "source": [
    "### Importing the dataset"
   ]
  },
  {
   "cell_type": "code",
   "execution_count": 3,
   "metadata": {
    "colab": {},
    "colab_type": "code",
    "id": "B9CV13Co_HHM"
   },
   "outputs": [],
   "source": [
    "dataset = pd.read_excel('Folds5x2_pp.xlsx')\n",
    "X = dataset.iloc[:, :-1].values\n",
    "y = dataset.iloc[:, -1].values"
   ]
  },
  {
   "cell_type": "markdown",
   "metadata": {
    "colab_type": "text",
    "id": "VC6omXel_Up0"
   },
   "source": [
    "### Splitting the dataset into the Training set and Test set"
   ]
  },
  {
   "cell_type": "code",
   "execution_count": 4,
   "metadata": {
    "colab": {},
    "colab_type": "code",
    "id": "L5edeb2r_agx"
   },
   "outputs": [],
   "source": [
    "from sklearn.model_selection import train_test_split\n",
    "X_train, X_test, y_train, y_test = train_test_split(X, y, test_size = 0.2, random_state = 0)"
   ]
  },
  {
   "cell_type": "markdown",
   "metadata": {
    "colab_type": "text",
    "id": "_mSLlAT9_eyI"
   },
   "source": [
    "## Part 2 - Building the ANN"
   ]
  },
  {
   "cell_type": "markdown",
   "metadata": {
    "colab_type": "text",
    "id": "CsBULd_f_wLY"
   },
   "source": [
    "### Initializing the ANN"
   ]
  },
  {
   "cell_type": "code",
   "execution_count": 5,
   "metadata": {
    "colab": {},
    "colab_type": "code",
    "id": "J6Hd97Ls__Nz"
   },
   "outputs": [
    {
     "name": "stdout",
     "output_type": "stream",
     "text": [
      "WARNING:tensorflow:From C:\\Users\\udaya\\anaconda3\\Lib\\site-packages\\keras\\src\\backend.py:873: The name tf.get_default_graph is deprecated. Please use tf.compat.v1.get_default_graph instead.\n",
      "\n"
     ]
    }
   ],
   "source": [
    "ann = tf.keras.models.Sequential()"
   ]
  },
  {
   "cell_type": "markdown",
   "metadata": {
    "colab_type": "text",
    "id": "iitAFJS_ABUn"
   },
   "source": [
    "### Adding the input layer and the first hidden layer"
   ]
  },
  {
   "cell_type": "code",
   "execution_count": 6,
   "metadata": {
    "colab": {},
    "colab_type": "code",
    "id": "ksO_Vv40AHix"
   },
   "outputs": [],
   "source": [
    "ann.add(tf.keras.layers.Dense(units=6, activation='relu'))"
   ]
  },
  {
   "cell_type": "markdown",
   "metadata": {
    "colab_type": "text",
    "id": "-lb4kK_wAKbs"
   },
   "source": [
    "### Adding the second hidden layer"
   ]
  },
  {
   "cell_type": "code",
   "execution_count": 7,
   "metadata": {
    "colab": {},
    "colab_type": "code",
    "id": "c2357OqEAQOQ"
   },
   "outputs": [],
   "source": [
    "ann.add(tf.keras.layers.Dense(units=6, activation='relu'))"
   ]
  },
  {
   "cell_type": "markdown",
   "metadata": {
    "colab_type": "text",
    "id": "jwMOmKb3AdBY"
   },
   "source": [
    "### Adding the output layer"
   ]
  },
  {
   "cell_type": "code",
   "execution_count": 8,
   "metadata": {
    "colab": {},
    "colab_type": "code",
    "id": "YFATpzsUAkLL"
   },
   "outputs": [],
   "source": [
    "ann.add(tf.keras.layers.Dense(units=1))"
   ]
  },
  {
   "cell_type": "markdown",
   "metadata": {
    "colab_type": "text",
    "id": "fq7e4fF6A1yy"
   },
   "source": [
    "## Part 3 - Training the ANN"
   ]
  },
  {
   "cell_type": "markdown",
   "metadata": {
    "colab_type": "text",
    "id": "qDeylAs2An25"
   },
   "source": [
    "### Compiling the ANN"
   ]
  },
  {
   "cell_type": "code",
   "execution_count": 9,
   "metadata": {
    "colab": {},
    "colab_type": "code",
    "id": "pesgbWlCAtB4"
   },
   "outputs": [
    {
     "name": "stdout",
     "output_type": "stream",
     "text": [
      "WARNING:tensorflow:From C:\\Users\\udaya\\anaconda3\\Lib\\site-packages\\keras\\src\\optimizers\\__init__.py:309: The name tf.train.Optimizer is deprecated. Please use tf.compat.v1.train.Optimizer instead.\n",
      "\n"
     ]
    }
   ],
   "source": [
    "ann.compile(optimizer = 'adam', loss = 'mean_squared_error')"
   ]
  },
  {
   "cell_type": "markdown",
   "metadata": {
    "colab_type": "text",
    "id": "YjVuiybYOo7r"
   },
   "source": [
    "### Training the ANN model on the Training set"
   ]
  },
  {
   "cell_type": "code",
   "execution_count": 10,
   "metadata": {
    "colab": {
     "base_uri": "https://localhost:8080/",
     "height": 1000
    },
    "colab_type": "code",
    "id": "c_vV-tiiA5zn",
    "outputId": "4a2b6ee6-ed75-4698-9069-b250e613803f"
   },
   "outputs": [
    {
     "name": "stdout",
     "output_type": "stream",
     "text": [
      "Epoch 1/100\n",
      "WARNING:tensorflow:From C:\\Users\\udaya\\anaconda3\\Lib\\site-packages\\keras\\src\\utils\\tf_utils.py:492: The name tf.ragged.RaggedTensorValue is deprecated. Please use tf.compat.v1.ragged.RaggedTensorValue instead.\n",
      "\n",
      "240/240 [==============================] - 3s 3ms/step - loss: 507075.9688\n",
      "Epoch 2/100\n",
      "240/240 [==============================] - 1s 4ms/step - loss: 206435.9688\n",
      "Epoch 3/100\n",
      "240/240 [==============================] - 1s 4ms/step - loss: 206264.3281\n",
      "Epoch 4/100\n",
      "240/240 [==============================] - 1s 4ms/step - loss: 206076.8438\n",
      "Epoch 5/100\n",
      "240/240 [==============================] - 1s 4ms/step - loss: 205880.5312\n",
      "Epoch 6/100\n",
      "240/240 [==============================] - 1s 4ms/step - loss: 205678.6406\n",
      "Epoch 7/100\n",
      "240/240 [==============================] - 1s 4ms/step - loss: 205472.9062\n",
      "Epoch 8/100\n",
      "240/240 [==============================] - 1s 3ms/step - loss: 205264.4531\n",
      "Epoch 9/100\n",
      "240/240 [==============================] - 1s 3ms/step - loss: 205054.0312\n",
      "Epoch 10/100\n",
      "240/240 [==============================] - 1s 4ms/step - loss: 204842.2969\n",
      "Epoch 11/100\n",
      "240/240 [==============================] - 1s 4ms/step - loss: 204629.5156\n",
      "Epoch 12/100\n",
      "240/240 [==============================] - 1s 4ms/step - loss: 204416.1094\n",
      "Epoch 13/100\n",
      "240/240 [==============================] - 1s 4ms/step - loss: 204201.9375\n",
      "Epoch 14/100\n",
      "240/240 [==============================] - 1s 3ms/step - loss: 203987.4531\n",
      "Epoch 15/100\n",
      "240/240 [==============================] - 1s 3ms/step - loss: 203772.8281\n",
      "Epoch 16/100\n",
      "240/240 [==============================] - 1s 3ms/step - loss: 203557.9219\n",
      "Epoch 17/100\n",
      "240/240 [==============================] - 1s 3ms/step - loss: 203342.8906\n",
      "Epoch 18/100\n",
      "240/240 [==============================] - 1s 4ms/step - loss: 203127.7188\n",
      "Epoch 19/100\n",
      "240/240 [==============================] - 1s 4ms/step - loss: 202912.6250\n",
      "Epoch 20/100\n",
      "240/240 [==============================] - 1s 4ms/step - loss: 202697.4531\n",
      "Epoch 21/100\n",
      "240/240 [==============================] - 1s 4ms/step - loss: 202482.3281\n",
      "Epoch 22/100\n",
      "240/240 [==============================] - 1s 4ms/step - loss: 202267.2656\n",
      "Epoch 23/100\n",
      "240/240 [==============================] - 1s 4ms/step - loss: 202052.2188\n",
      "Epoch 24/100\n",
      "240/240 [==============================] - 1s 4ms/step - loss: 201837.4219\n",
      "Epoch 25/100\n",
      "240/240 [==============================] - 1s 4ms/step - loss: 201622.5000\n",
      "Epoch 26/100\n",
      "240/240 [==============================] - 1s 4ms/step - loss: 201407.7812\n",
      "Epoch 27/100\n",
      "240/240 [==============================] - 1s 3ms/step - loss: 201193.2344\n",
      "Epoch 28/100\n",
      "240/240 [==============================] - 1s 3ms/step - loss: 200978.5000\n",
      "Epoch 29/100\n",
      "240/240 [==============================] - 1s 4ms/step - loss: 200764.1875\n",
      "Epoch 30/100\n",
      "240/240 [==============================] - 1s 4ms/step - loss: 200549.7812\n",
      "Epoch 31/100\n",
      "240/240 [==============================] - 1s 4ms/step - loss: 200335.5625\n",
      "Epoch 32/100\n",
      "240/240 [==============================] - 1s 4ms/step - loss: 200121.4375\n",
      "Epoch 33/100\n",
      "240/240 [==============================] - 1s 4ms/step - loss: 199907.4219\n",
      "Epoch 34/100\n",
      "240/240 [==============================] - 1s 4ms/step - loss: 199693.4844\n",
      "Epoch 35/100\n",
      "240/240 [==============================] - 1s 4ms/step - loss: 199479.7188\n",
      "Epoch 36/100\n",
      "240/240 [==============================] - 1s 4ms/step - loss: 199266.0938\n",
      "Epoch 37/100\n",
      "240/240 [==============================] - 1s 4ms/step - loss: 199052.4219\n",
      "Epoch 38/100\n",
      "240/240 [==============================] - 1s 4ms/step - loss: 198839.0156\n",
      "Epoch 39/100\n",
      "240/240 [==============================] - 1s 3ms/step - loss: 198625.6562\n",
      "Epoch 40/100\n",
      "240/240 [==============================] - 1s 3ms/step - loss: 198412.4531\n",
      "Epoch 41/100\n",
      "240/240 [==============================] - 1s 4ms/step - loss: 198199.4531\n",
      "Epoch 42/100\n",
      "240/240 [==============================] - 1s 4ms/step - loss: 197986.3125\n",
      "Epoch 43/100\n",
      "240/240 [==============================] - 1s 3ms/step - loss: 197773.3750\n",
      "Epoch 44/100\n",
      "240/240 [==============================] - 1s 3ms/step - loss: 197560.7031\n",
      "Epoch 45/100\n",
      "240/240 [==============================] - 1s 4ms/step - loss: 197348.0156\n",
      "Epoch 46/100\n",
      "240/240 [==============================] - 1s 4ms/step - loss: 197135.5156\n",
      "Epoch 47/100\n",
      "240/240 [==============================] - 1s 4ms/step - loss: 196923.0625\n",
      "Epoch 48/100\n",
      "240/240 [==============================] - 1s 4ms/step - loss: 196710.6250\n",
      "Epoch 49/100\n",
      "240/240 [==============================] - 1s 3ms/step - loss: 196498.5156\n",
      "Epoch 50/100\n",
      "240/240 [==============================] - 1s 4ms/step - loss: 196286.3906\n",
      "Epoch 51/100\n",
      "240/240 [==============================] - 1s 4ms/step - loss: 196074.5469\n",
      "Epoch 52/100\n",
      "240/240 [==============================] - 1s 4ms/step - loss: 195862.5469\n",
      "Epoch 53/100\n",
      "240/240 [==============================] - 1s 4ms/step - loss: 195650.9375\n",
      "Epoch 54/100\n",
      "240/240 [==============================] - 1s 3ms/step - loss: 195439.1719\n",
      "Epoch 55/100\n",
      "240/240 [==============================] - 1s 4ms/step - loss: 195227.7344\n",
      "Epoch 56/100\n",
      "240/240 [==============================] - 1s 3ms/step - loss: 195016.3594\n",
      "Epoch 57/100\n",
      "240/240 [==============================] - 1s 4ms/step - loss: 194805.0781\n",
      "Epoch 58/100\n",
      "240/240 [==============================] - 1s 3ms/step - loss: 194593.9531\n",
      "Epoch 59/100\n",
      "240/240 [==============================] - 1s 3ms/step - loss: 194382.8906\n",
      "Epoch 60/100\n",
      "240/240 [==============================] - 1s 4ms/step - loss: 194171.9688\n",
      "Epoch 61/100\n",
      "240/240 [==============================] - 1s 4ms/step - loss: 193961.0938\n",
      "Epoch 62/100\n",
      "240/240 [==============================] - 1s 3ms/step - loss: 193750.4219\n",
      "Epoch 63/100\n",
      "240/240 [==============================] - 1s 3ms/step - loss: 193539.8594\n",
      "Epoch 64/100\n",
      "240/240 [==============================] - 1s 4ms/step - loss: 193329.3906\n",
      "Epoch 65/100\n",
      "240/240 [==============================] - 1s 4ms/step - loss: 193119.0781\n",
      "Epoch 66/100\n",
      "240/240 [==============================] - 1s 4ms/step - loss: 192908.7812\n",
      "Epoch 67/100\n",
      "240/240 [==============================] - 1s 4ms/step - loss: 192698.6562\n",
      "Epoch 68/100\n",
      "240/240 [==============================] - 1s 4ms/step - loss: 192488.6094\n",
      "Epoch 69/100\n",
      "240/240 [==============================] - 1s 4ms/step - loss: 192278.7031\n",
      "Epoch 70/100\n",
      "240/240 [==============================] - 1s 3ms/step - loss: 192068.9219\n",
      "Epoch 71/100\n",
      "240/240 [==============================] - 1s 4ms/step - loss: 191859.3906\n",
      "Epoch 72/100\n",
      "240/240 [==============================] - 1s 3ms/step - loss: 191649.8125\n",
      "Epoch 73/100\n",
      "240/240 [==============================] - 1s 3ms/step - loss: 191440.2344\n",
      "Epoch 74/100\n",
      "240/240 [==============================] - 1s 3ms/step - loss: 191230.9688\n",
      "Epoch 75/100\n",
      "240/240 [==============================] - 1s 4ms/step - loss: 191021.7031\n",
      "Epoch 76/100\n",
      "240/240 [==============================] - 1s 4ms/step - loss: 190812.5781\n",
      "Epoch 77/100\n",
      "240/240 [==============================] - 1s 3ms/step - loss: 190603.6719\n",
      "Epoch 78/100\n",
      "240/240 [==============================] - 1s 3ms/step - loss: 190394.8438\n",
      "Epoch 79/100\n",
      "240/240 [==============================] - 1s 4ms/step - loss: 190186.0625\n",
      "Epoch 80/100\n",
      "240/240 [==============================] - 1s 4ms/step - loss: 189977.5156\n",
      "Epoch 81/100\n",
      "240/240 [==============================] - 1s 4ms/step - loss: 189768.9531\n",
      "Epoch 82/100\n",
      "240/240 [==============================] - 1s 4ms/step - loss: 189560.5312\n",
      "Epoch 83/100\n",
      "240/240 [==============================] - 1s 4ms/step - loss: 189352.2656\n",
      "Epoch 84/100\n",
      "240/240 [==============================] - 1s 3ms/step - loss: 189144.0469\n",
      "Epoch 85/100\n",
      "240/240 [==============================] - 1s 3ms/step - loss: 188936.1094\n",
      "Epoch 86/100\n",
      "240/240 [==============================] - 1s 3ms/step - loss: 188727.9375\n",
      "Epoch 87/100\n",
      "240/240 [==============================] - 1s 3ms/step - loss: 188520.2812\n",
      "Epoch 88/100\n",
      "240/240 [==============================] - 1s 4ms/step - loss: 188312.5938\n",
      "Epoch 89/100\n",
      "240/240 [==============================] - 1s 4ms/step - loss: 188104.8906\n",
      "Epoch 90/100\n",
      "240/240 [==============================] - 1s 4ms/step - loss: 187897.5156\n",
      "Epoch 91/100\n",
      "240/240 [==============================] - 1s 4ms/step - loss: 187690.1250\n",
      "Epoch 92/100\n",
      "240/240 [==============================] - 1s 3ms/step - loss: 187482.8438\n",
      "Epoch 93/100\n",
      "240/240 [==============================] - 1s 3ms/step - loss: 187275.6875\n",
      "Epoch 94/100\n",
      "240/240 [==============================] - 1s 3ms/step - loss: 187068.6250\n",
      "Epoch 95/100\n",
      "240/240 [==============================] - 1s 3ms/step - loss: 186861.7344\n",
      "Epoch 96/100\n",
      "240/240 [==============================] - 1s 3ms/step - loss: 186654.9688\n",
      "Epoch 97/100\n",
      "240/240 [==============================] - 1s 3ms/step - loss: 186448.2812\n",
      "Epoch 98/100\n",
      "240/240 [==============================] - 1s 3ms/step - loss: 186241.7188\n",
      "Epoch 99/100\n",
      "240/240 [==============================] - 1s 4ms/step - loss: 186035.2969\n",
      "Epoch 100/100\n",
      "240/240 [==============================] - 1s 4ms/step - loss: 185828.9688\n"
     ]
    },
    {
     "data": {
      "text/plain": [
       "<keras.src.callbacks.History at 0x2031b550410>"
      ]
     },
     "execution_count": 10,
     "metadata": {},
     "output_type": "execute_result"
    }
   ],
   "source": [
    "ann.fit(X_train, y_train, batch_size = 32, epochs = 100)"
   ]
  },
  {
   "cell_type": "markdown",
   "metadata": {
    "colab_type": "text",
    "id": "0H0zKKNEBLD5"
   },
   "source": [
    "### Predicting the results of the Test set"
   ]
  },
  {
   "cell_type": "code",
   "execution_count": 11,
   "metadata": {
    "colab": {
     "base_uri": "https://localhost:8080/",
     "height": 134
    },
    "colab_type": "code",
    "id": "IA0yApEmBG1X",
    "outputId": "cb981e1f-9204-4a2a-fece-9d66a6919189"
   },
   "outputs": [
    {
     "name": "stdout",
     "output_type": "stream",
     "text": [
      "60/60 [==============================] - 0s 3ms/step\n",
      "[[ 23.68 431.23]\n",
      " [ 23.68 460.01]\n",
      " [ 23.68 461.14]\n",
      " ...\n",
      " [ 23.68 473.26]\n",
      " [ 23.68 438.  ]\n",
      " [ 23.68 463.28]]\n"
     ]
    }
   ],
   "source": [
    "y_pred = ann.predict(X_test)\n",
    "np.set_printoptions(precision=2)\n",
    "print(np.concatenate((y_pred.reshape(len(y_pred),1), y_test.reshape(len(y_test),1)),1))"
   ]
  },
  {
   "cell_type": "markdown",
   "metadata": {},
   "source": [
    "# <center>Thank You</center>"
   ]
  }
 ],
 "metadata": {
  "colab": {
   "collapsed_sections": [],
   "name": "Artificial Neural Network",
   "provenance": [],
   "toc_visible": true
  },
  "kernelspec": {
   "display_name": "Python 3 (ipykernel)",
   "language": "python",
   "name": "python3"
  },
  "language_info": {
   "codemirror_mode": {
    "name": "ipython",
    "version": 3
   },
   "file_extension": ".py",
   "mimetype": "text/x-python",
   "name": "python",
   "nbconvert_exporter": "python",
   "pygments_lexer": "ipython3",
   "version": "3.11.5"
  }
 },
 "nbformat": 4,
 "nbformat_minor": 1
}
